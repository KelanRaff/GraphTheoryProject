{
 "cells": [
  {
   "cell_type": "markdown",
   "id": "f8ec0db0",
   "metadata": {},
   "source": [
    "## Heap Sort Algorithm"
   ]
  },
  {
   "cell_type": "raw",
   "id": "8fac6e63",
   "metadata": {},
   "source": [
    "G00382023"
   ]
  },
  {
   "cell_type": "markdown",
   "id": "778ccd4d",
   "metadata": {},
   "source": [
    "### Heap-Sort Introduction and background"
   ]
  },
  {
   "cell_type": "markdown",
   "id": "c6485892",
   "metadata": {},
   "source": [
    "The HeapSort algorithm is a technique used for sorting in a comparitive manor. It is a technique where **Heaps** are used, Heaps themselves are a specialised **tree based data structure**. Heap Sort is an **efficient**, unstable algorithm that is used to order an array of numbers by a **maximum** or **minimum** properties. "
   ]
  },
  {
   "cell_type": "markdown",
   "id": "a8c8ae1a",
   "metadata": {},
   "source": [
    "**What is a Maximum Heap?**"
   ]
  },
  {
   "cell_type": "markdown",
   "id": "d8b09d4f",
   "metadata": {},
   "source": [
    "In a Max Heap, the root nodes value must be **greater than or equal to** the values present at all of its childen nodes."
   ]
  },
  {
   "cell_type": "markdown",
   "id": "342c6a31",
   "metadata": {},
   "source": [
    "**What is a Minimum Heap?**"
   ]
  },
  {
   "cell_type": "markdown",
   "id": "dfb3c95a",
   "metadata": {},
   "source": [
    "In a Min Heap, the root nodes must be **less than or equal to** the values present at all of its children nodes."
   ]
  },
  {
   "cell_type": "markdown",
   "id": "aefd3174",
   "metadata": {},
   "source": [
    "### Heap-Sort Implementation"
   ]
  },
  {
   "cell_type": "code",
   "execution_count": null,
   "id": "f89c5465",
   "metadata": {},
   "outputs": [],
   "source": []
  },
  {
   "cell_type": "markdown",
   "id": "2dcff21e",
   "metadata": {},
   "source": [
    "### Computational Complexity"
   ]
  },
  {
   "cell_type": "markdown",
   "id": "c40376f2",
   "metadata": {},
   "source": []
  },
  {
   "cell_type": "markdown",
   "id": "f16201b0",
   "metadata": {},
   "source": [
    "### Application of Graphy Theory in Heap-Sort"
   ]
  },
  {
   "cell_type": "code",
   "execution_count": null,
   "id": "52eb87c0",
   "metadata": {},
   "outputs": [],
   "source": []
  }
 ],
 "metadata": {
  "kernelspec": {
   "display_name": "Python 3",
   "language": "python",
   "name": "python3"
  },
  "language_info": {
   "codemirror_mode": {
    "name": "ipython",
    "version": 3
   },
   "file_extension": ".py",
   "mimetype": "text/x-python",
   "name": "python",
   "nbconvert_exporter": "python",
   "pygments_lexer": "ipython3",
   "version": "3.8.8"
  }
 },
 "nbformat": 4,
 "nbformat_minor": 5
}
