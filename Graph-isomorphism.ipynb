{
 "cells": [
  {
   "cell_type": "markdown",
   "id": "6e1f5f81",
   "metadata": {},
   "source": [
    "# Graph Isomorphism Problem"
   ]
  },
  {
   "cell_type": "markdown",
   "id": "386effa7",
   "metadata": {},
   "source": [
    "### Introduction"
   ]
  },
  {
   "cell_type": "markdown",
   "id": "ffdfcffe",
   "metadata": {},
   "source": [
    "The Graph Isomorphism problem is an infamous computational problem that has yet to be solved. The persisting problem is this: The problem itself isnt the most difficult thing to grasp the concept of, however the problem has proven to be challenging because of how subtle it is.The graphs vertexes and edges must be exactly the same (**Isomorphism**).\n",
    "\n",
    "This can be done on smaller graphs quite easily, however as a graph **grows and becomes more complex**, it becomes more and more difficult to verify if it is isomorphic or not.\n",
    "\n",
    "Isomorphism : *G1 = (V1, E1) = G2 = (V2, E2)*\n",
    "\n",
    "*where \n",
    "G = Graph\n",
    "V = Vertexes\n",
    "E = Edges*"
   ]
  },
  {
   "attachments": {
    "download2.png": {
     "image/png": "[encoded data removed]"
    }
   },
   "cell_type": "markdown",
   "id": "79dd5f27",
   "metadata": {},
   "source": [
    "![download2.png](attachment:download2.png)"
   ]
  },
  {
   "cell_type": "markdown",
   "id": "b9c65b36",
   "metadata": {},
   "source": [
    "The diagram above shows 2 graphs which are **isomorphic**. However the two graphs looks very different but using the above formula it is proven that they are in fact the same graph.\n",
    "\n",
    "This is provable by studying the above diagram and realising that the edges and vertexes of the graph are actually the same."
   ]
  },
  {
   "attachments": {
    "1etPf.jpg": {
     "image/jpeg": "[encoded data removed]"
    }
   },
   "cell_type": "markdown",
   "id": "c62bcc28",
   "metadata": {},
   "source": [
    "![1etPf.jpg](attachment:1etPf.jpg)"
   ]
  },
  {
   "cell_type": "markdown",
   "id": "0a8fd237",
   "metadata": {},
   "source": [
    "The Second diagram shows 2 more graphs which you might assume to be isomorphic, however when we study them. It becomes apparent that they are not **isomorphic**. The difference is subtle and you can never really assume anything in a field of mathematics, so going through the formula is the only way to truly verify if two graphs are isomorphic or not."
   ]
  },
  {
   "cell_type": "markdown",
   "id": "5459f96e",
   "metadata": {},
   "source": [
    "### P vs NP"
   ]
  },
  {
   "cell_type": "markdown",
   "id": "87893bea",
   "metadata": {},
   "source": [
    "The P vs NP problem is a major problem that has yet to be solved in mathematics, that basically is the the essence of what was discussed above. The Question is can a problem be quickly solved and quickly verified in polynomial time. It is **widely believed** for the most part that *P != NP* which if true would mean that problems that are NP are to compute than to verify. they couldnt be solved in polynomial time but could be verified within it.\n",
    "\n",
    "Formula : **P = NP**\n",
    "\n",
    "*Where\n",
    "P = Polynomial Time\n",
    "NP = Nondeternimistic Polynomial Time*\n",
    "\n",
    "A hungarian scientist by the name of **laszló Babai** has had breakthough results in recent years hwoever they are still being fully verified which takes time. His results were proof that the graph isomorphism problem could be solved in **quasi-polynomial** time."
   ]
  },
  {
   "cell_type": "markdown",
   "id": "a77a1704",
   "metadata": {},
   "source": [
    "### How Graphs can be represented in data structures"
   ]
  },
  {
   "cell_type": "markdown",
   "id": "022bfe35",
   "metadata": {},
   "source": []
  },
  {
   "cell_type": "markdown",
   "id": "52884375",
   "metadata": {},
   "source": [
    "### Implementation"
   ]
  },
  {
   "cell_type": "code",
   "execution_count": 9,
   "id": "6e868d10",
   "metadata": {},
   "outputs": [],
   "source": [
    "#code is a work in progress, and is referenced below.\n",
    "\n",
    "\n",
    "import itertools\n",
    "import numpy as np\n",
    "\n",
    "def get_graph_order(adj_matrix):\n",
    "    if len(adj_matrix) != len(adj_matrix[0]):\n",
    "        return -1\n",
    "    else:\n",
    "        return len(adj_matrix)\n",
    "\n",
    "\n",
    "def get_degree_sequence(adj_matrix):\n",
    "    degree_sequence = []\n",
    "    for vertex in range(len(adj_matrix)):\n",
    "        degree_sequence.append(sum(adj_matrix[vertex]))\n",
    "    degree_sequence.sort(reverse=True)\n",
    "    return degree_sequence\n",
    "\n",
    "\n",
    "def get_all_vertex_permutations(adj_matrix):\n",
    "    if get_graph_order(adj_matrix) > 8:\n",
    "        print(\"This function is too inefficient for graph order > 8\")\n",
    "        return -1\n",
    "    all_adj_matrix = []\n",
    "    idx = list(range(len(adj_matrix)))\n",
    "    possible_idx_combinations = [\n",
    "        list(i) for i in itertools.permutations(idx, len(idx))\n",
    "    ]\n",
    "    for idx_comb in possible_idx_combinations:\n",
    "        a = adj_matrix\n",
    "        a = a[idx_comb]\n",
    "        a = np.transpose(np.transpose(a)[idx_comb])\n",
    "        all_adj_matrix.append({\n",
    "            \"perm_vertex\":\n",
    "            idx_comb,\n",
    "            \"adj_matrix\":\n",
    "            a\n",
    "        })\n",
    "\n",
    "    return all_adj_matrix\n",
    "\n",
    "\n",
    "def brute_force_test_graph_isomporphism(adj_1, adj_2):\n",
    "    degree_sequence_1 = get_degree_sequence(adj_1)\n",
    "    degree_sequence_2 = get_degree_sequence(adj_2)\n",
    "    if get_graph_order(adj_1) != get_graph_order(adj_1):\n",
    "        return False\n",
    "    elif np.array_equal(degree_sequence_1, degree_sequence_2) == False:\n",
    "        return False\n",
    "    else:\n",
    "        for adj_matrix in list(\n",
    "                map(lambda matrix: matrix[\"adj_matrix\"],\n",
    "                    get_all_vertex_permutations(adj_2))):\n",
    "            if np.array_equal(adj_1, adj_matrix) == True:\n",
    "                return True\n",
    "    return False"
   ]
  },
  {
   "cell_type": "markdown",
   "id": "89d0a229",
   "metadata": {},
   "source": [
    "### Discussion of computational Complexity "
   ]
  },
  {
   "cell_type": "markdown",
   "id": "d7d4844e",
   "metadata": {},
   "source": []
  },
  {
   "cell_type": "markdown",
   "id": "1385d9b9",
   "metadata": {},
   "source": [
    "### References"
   ]
  },
  {
   "cell_type": "markdown",
   "id": "e036a07f",
   "metadata": {},
   "source": [
    "TeX - LaTeX Stack Exchange. (n.d.). diagrams - How to draw animated isomorphic graphs? [online] Available at: https://tex.stackexchange.com/questions/478689/how-to-draw-animated-isomorphic-graphs [Accessed 8 May 2022].\n",
    "\n",
    "Cañada, T. (2022). Brute-force code for Isomorphisms. [online] Medium. Available at: https://tonicanada.medium.com/brute-force-code-for-isomorphisms-1241ef180570 [Accessed 8 May 2022].\n",
    "\n"
   ]
  }
 ],
 "metadata": {
  "kernelspec": {
   "display_name": "Python 3",
   "language": "python",
   "name": "python3"
  },
  "language_info": {
   "codemirror_mode": {
    "name": "ipython",
    "version": 3
   },
   "file_extension": ".py",
   "mimetype": "text/x-python",
   "name": "python",
   "nbconvert_exporter": "python",
   "pygments_lexer": "ipython3",
   "version": "3.8.8"
  }
 },
 "nbformat": 4,
 "nbformat_minor": 5
}
