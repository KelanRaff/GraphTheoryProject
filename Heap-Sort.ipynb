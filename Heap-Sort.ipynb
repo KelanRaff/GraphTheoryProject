{
 "cells": [
  {
   "cell_type": "markdown",
   "id": "f8ec0db0",
   "metadata": {},
   "source": [
    "## Heap Sort Algorithm"
   ]
  },
  {
   "cell_type": "raw",
   "id": "0079d6ee",
   "metadata": {},
   "source": [
    "G00382023"
   ]
  },
  {
   "cell_type": "markdown",
   "id": "996d8143",
   "metadata": {},
   "source": [
    "### Heap-Sort Introduction and background"
   ]
  },
  {
   "cell_type": "markdown",
   "id": "c6485892",
   "metadata": {},
   "source": [
    "The HeapSort algorithm is a technique used for sorting in a comparitive manor. It is a technique where **Heaps** are used. Heaps themselves are a specialised **tree based data structure**. Heap Sort is an **efficient**, unstable algorithm that is used to order an array of numbers by a **maximum** or **minimum** properties. It has an average runtime of *O(n log n)*. "
   ]
  },
  {
   "cell_type": "markdown",
   "id": "e9b7c8a3",
   "metadata": {},
   "source": [
    "**What is a Maximum Heap?**"
   ]
  },
  {
   "cell_type": "markdown",
   "id": "6821ca07",
   "metadata": {},
   "source": [
    "In a Max Heap, the root nodes value must be **greater than or equal to** the values present at all of its childen nodes."
   ]
  },
  {
   "cell_type": "markdown",
   "id": "a6edd726",
   "metadata": {},
   "source": [
    "**What is a Minimum Heap?**"
   ]
  },
  {
   "cell_type": "markdown",
   "id": "09176658",
   "metadata": {},
   "source": [
    "In a Min Heap, the root nodes must be **less than or equal to** the values present at all of its children nodes."
   ]
  },
  {
   "cell_type": "markdown",
   "id": "831c8487",
   "metadata": {},
   "source": [
    "**Is Heap Sort Efficient?**"
   ]
  },
  {
   "cell_type": "markdown",
   "id": "b9fef14b",
   "metadata": {},
   "source": [
    "The Heap sort algorithm's **big O perforamce is O(n log n)**,which is considered to be a good runtime. Heap sort would be a suitable choice for sorting a massive array."
   ]
  },
  {
   "cell_type": "markdown",
   "id": "552c997c",
   "metadata": {},
   "source": [
    "**Is Heap Sort Memory-Efficient?**"
   ]
  },
  {
   "cell_type": "markdown",
   "id": "e92fd10d",
   "metadata": {},
   "source": [
    "Heap Sort is a **very Memory efficient** algorithm that is memory efficient when contrasted with other sorting algorithms. This is due to the fact that it requires no additional memory to work. This is due to the algorithm being **non-recursive**."
   ]
  },
  {
   "cell_type": "code",
   "execution_count": null,
   "id": "6a592e1b",
   "metadata": {},
   "outputs": [],
   "source": []
  },
  {
   "cell_type": "markdown",
   "id": "62413e42",
   "metadata": {},
   "source": [
    "### Heap-Sort Implementation"
   ]
  },
  {
   "cell_type": "code",
   "execution_count": null,
   "id": "0d037306",
   "metadata": {},
   "outputs": [],
   "source": []
  },
  {
   "cell_type": "markdown",
   "id": "1dba68c6",
   "metadata": {},
   "source": [
    "### Computational Complexity"
   ]
  },
  {
   "cell_type": "markdown",
   "id": "8962d725",
   "metadata": {},
   "source": []
  },
  {
   "cell_type": "markdown",
   "id": "c435dc22",
   "metadata": {},
   "source": [
    "### Application of Graphy Theory in Heap-Sort"
   ]
  },
  {
   "cell_type": "code",
   "execution_count": null,
   "id": "7e58c3fb",
   "metadata": {},
   "outputs": [],
   "source": []
  }
 ],
 "metadata": {
  "kernelspec": {
   "display_name": "Python 3",
   "language": "python",
   "name": "python3"
  },
  "language_info": {
   "codemirror_mode": {
    "name": "ipython",
    "version": 3
   },
   "file_extension": ".py",
   "mimetype": "text/x-python",
   "name": "python",
   "nbconvert_exporter": "python",
   "pygments_lexer": "ipython3",
   "version": "3.8.8"
  }
 },
 "nbformat": 4,
 "nbformat_minor": 5
}
